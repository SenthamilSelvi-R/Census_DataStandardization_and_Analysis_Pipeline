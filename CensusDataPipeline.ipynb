{
 "cells": [
  {
   "cell_type": "markdown",
   "metadata": {},
   "source": [
    "Census Data Pipeline"
   ]
  },
  {
   "cell_type": "code",
   "execution_count": 3,
   "metadata": {},
   "outputs": [
    {
     "name": "stdout",
     "output_type": "stream",
     "text": [
      "Collecting pandas\n",
      "  Downloading pandas-2.2.3-cp312-cp312-win_amd64.whl.metadata (19 kB)\n",
      "Collecting numpy>=1.26.0 (from pandas)\n",
      "  Downloading numpy-2.1.2-cp312-cp312-win_amd64.whl.metadata (59 kB)\n",
      "Requirement already satisfied: python-dateutil>=2.8.2 in c:\\users\\senthamil selvi r\\appdata\\roaming\\python\\python312\\site-packages (from pandas) (2.9.0.post0)\n",
      "Collecting pytz>=2020.1 (from pandas)\n",
      "  Downloading pytz-2024.2-py2.py3-none-any.whl.metadata (22 kB)\n",
      "Collecting tzdata>=2022.7 (from pandas)\n",
      "  Downloading tzdata-2024.2-py2.py3-none-any.whl.metadata (1.4 kB)\n",
      "Requirement already satisfied: six>=1.5 in c:\\users\\senthamil selvi r\\appdata\\roaming\\python\\python312\\site-packages (from python-dateutil>=2.8.2->pandas) (1.16.0)\n",
      "Downloading pandas-2.2.3-cp312-cp312-win_amd64.whl (11.5 MB)\n",
      "   ---------------------------------------- 0.0/11.5 MB ? eta -:--:--\n",
      "   -- ------------------------------------- 0.8/11.5 MB 5.6 MB/s eta 0:00:02\n",
      "   -------- ------------------------------- 2.4/11.5 MB 6.7 MB/s eta 0:00:02\n",
      "   --------------- ------------------------ 4.5/11.5 MB 7.7 MB/s eta 0:00:01\n",
      "   ------------------- -------------------- 5.5/11.5 MB 7.3 MB/s eta 0:00:01\n",
      "   --------------------- ------------------ 6.3/11.5 MB 6.5 MB/s eta 0:00:01\n",
      "   --------------------- ------------------ 6.3/11.5 MB 6.5 MB/s eta 0:00:01\n",
      "   ---------------------- ----------------- 6.6/11.5 MB 4.7 MB/s eta 0:00:02\n",
      "   -------------------------- ------------- 7.6/11.5 MB 4.6 MB/s eta 0:00:01\n",
      "   ------------------------------ --------- 8.9/11.5 MB 4.8 MB/s eta 0:00:01\n",
      "   -------------------------------------- - 11.0/11.5 MB 5.3 MB/s eta 0:00:01\n",
      "   ---------------------------------------- 11.5/11.5 MB 5.3 MB/s eta 0:00:00\n",
      "Downloading numpy-2.1.2-cp312-cp312-win_amd64.whl (12.6 MB)\n",
      "   ---------------------------------------- 0.0/12.6 MB ? eta -:--:--\n",
      "   --- ------------------------------------ 1.0/12.6 MB 5.0 MB/s eta 0:00:03\n",
      "   ------- -------------------------------- 2.4/12.6 MB 5.6 MB/s eta 0:00:02\n",
      "   ----------- ---------------------------- 3.7/12.6 MB 5.7 MB/s eta 0:00:02\n",
      "   --------------- ------------------------ 4.7/12.6 MB 5.3 MB/s eta 0:00:02\n",
      "   ------------------- -------------------- 6.0/12.6 MB 5.5 MB/s eta 0:00:02\n",
      "   ----------------------- ---------------- 7.3/12.6 MB 5.6 MB/s eta 0:00:01\n",
      "   ---------------------------- ----------- 8.9/12.6 MB 5.8 MB/s eta 0:00:01\n",
      "   --------------------------------- ------ 10.5/12.6 MB 5.9 MB/s eta 0:00:01\n",
      "   ------------------------------------- -- 11.8/12.6 MB 6.0 MB/s eta 0:00:01\n",
      "   ---------------------------------------- 12.6/12.6 MB 5.8 MB/s eta 0:00:00\n",
      "Downloading pytz-2024.2-py2.py3-none-any.whl (508 kB)\n",
      "Downloading tzdata-2024.2-py2.py3-none-any.whl (346 kB)\n",
      "Installing collected packages: pytz, tzdata, numpy, pandas\n",
      "Successfully installed numpy-2.1.2 pandas-2.2.3 pytz-2024.2 tzdata-2024.2\n",
      "Requirement already satisfied: pymongo[srv] in c:\\users\\senthamil selvi r\\appdata\\local\\programs\\python\\python312\\lib\\site-packages (4.8.0)\n",
      "Requirement already satisfied: dnspython<3.0.0,>=1.16.0 in c:\\users\\senthamil selvi r\\appdata\\local\\programs\\python\\python312\\lib\\site-packages (from pymongo[srv]) (2.6.1)\n"
     ]
    },
    {
     "name": "stderr",
     "output_type": "stream",
     "text": [
      "WARNING: pymongo 4.8.0 does not provide the extra 'srv'\n"
     ]
    },
    {
     "name": "stdout",
     "output_type": "stream",
     "text": [
      "Requirement already satisfied: mysql-connector-python in c:\\users\\senthamil selvi r\\appdata\\local\\programs\\python\\python312\\lib\\site-packages (9.0.0)\n"
     ]
    }
   ],
   "source": [
    "# installing necessary libraries and modules\n",
    "\n",
    "! pip install pandas\n",
    "! python -m pip install \"pymongo[srv]\"\n",
    "! pip install mysql-connector-python"
   ]
  },
  {
   "cell_type": "code",
   "execution_count": 4,
   "metadata": {},
   "outputs": [],
   "source": [
    "# importing the requirements\n",
    "\n",
    "import pandas as pd\n",
    "from pymongo.mongo_client import MongoClient\n",
    "from pymongo.server_api import ServerApi\n",
    "import mysql.connector"
   ]
  },
  {
   "cell_type": "code",
   "execution_count": 5,
   "metadata": {},
   "outputs": [],
   "source": [
    "# reading the CSV data file\n",
    "\n",
    "df = pd.read_csv(\"census_2011.csv\", header = 0)"
   ]
  },
  {
   "cell_type": "markdown",
   "metadata": {},
   "source": [
    "Task 1: Rename the Column names"
   ]
  },
  {
   "cell_type": "code",
   "execution_count": 6,
   "metadata": {},
   "outputs": [],
   "source": [
    "# Renaming the columns\n",
    "\n",
    "column_headers = [\n",
    "    {'State name':'State/UT'},\n",
    "    {'District name':'District'},\n",
    "    {'Male_Literate':'Literate_Male'},\n",
    "    {'Female_Literate':'Literate_Female'},\n",
    "    {'Rural_Households':'Households_Rural'},\n",
    "    {'Urban_Households':'Households_Urban'},\n",
    "    {'Age_Group_0_29':'Young_and_Adult'},\n",
    "    {'Age_Group_30_49':'Middle_Aged'},\n",
    "    {'Age_Group_50':'Senior_Citizen'},\n",
    "    {'Age not stated':'Age_Not_Stated'}\n",
    "    ]\n",
    "\n",
    "def rename_columns(headers,df):    \n",
    "    for i in headers:\n",
    "        df.rename(columns = i, inplace = True)\n",
    "\n",
    "rename_columns(column_headers, df)"
   ]
  },
  {
   "cell_type": "markdown",
   "metadata": {},
   "source": [
    "Task 2: Rename State/UT Names"
   ]
  },
  {
   "cell_type": "code",
   "execution_count": 7,
   "metadata": {},
   "outputs": [],
   "source": [
    "# Outer for loop to get the state names. Inner for loop to check if the word is \"and\" else capitalize the word\n",
    "\n",
    "def Capitalization(df):\n",
    "    for i in range(len(df)):\n",
    "        x = df.loc[i,'State/UT'].lower().split()\n",
    "        for j in range(len(x)):\n",
    "            if x[j] != 'and':\n",
    "                x[j] = x[j].capitalize()\n",
    "        df.loc[i,'State/UT'] = \" \".join(x)\n",
    "\n",
    "Capitalization(df)"
   ]
  },
  {
   "cell_type": "markdown",
   "metadata": {},
   "source": [
    "Task 3: New State/UT formation"
   ]
  },
  {
   "cell_type": "code",
   "execution_count": 8,
   "metadata": {},
   "outputs": [],
   "source": [
    "# Reading the txt file\n",
    "\n",
    "with open('Telangana.txt', 'r') as telangana:\n",
    "    telangana_districts = telangana.read()\n",
    "telangana_districts = telangana_districts.split(\"\\n\")"
   ]
  },
  {
   "cell_type": "code",
   "execution_count": 9,
   "metadata": {},
   "outputs": [],
   "source": [
    "# setting the values as Telangana if the districts are in the telangana_districts list\n",
    "\n",
    "def telangana(df):\n",
    "    for i in range(len(df)):\n",
    "        if df.loc[i,'District'] in telangana_districts:\n",
    "            df.loc[i,'State/UT'] = \"Telangana\"\n",
    "\n",
    "telangana(df)"
   ]
  },
  {
   "cell_type": "code",
   "execution_count": 10,
   "metadata": {},
   "outputs": [],
   "source": [
    "# setting the values as Ladakh if the districts are in the ladakh list\n",
    "\n",
    "def ladakh(df):\n",
    "    ladakh = ['Leh', 'Kargil']\n",
    "    for district in ladakh:\n",
    "        for i in range(len(df)):\n",
    "            if district in df.loc[i,'District']:\n",
    "                df.loc[i,'State/UT'] = \"Ladakh\"\n",
    "\n",
    "ladakh(df)"
   ]
  },
  {
   "cell_type": "markdown",
   "metadata": {},
   "source": [
    "Task 4: Find and process Missing Data"
   ]
  },
  {
   "cell_type": "code",
   "execution_count": 11,
   "metadata": {},
   "outputs": [],
   "source": [
    "# Finding and storing the Percentage of missing data before cleaning for each column in a separate dictionary.\n",
    "def missingDataPercent(df) :\n",
    "    missing_data = {}\n",
    "    columns = df.columns\n",
    "    for i in columns:\n",
    "        count = 0\n",
    "        count += len(list(filter(lambda x : x == True, list(df[i].isnull()))))\n",
    "        missing_data[i] = round((count * 100)/len(df), 2)\n",
    "\n",
    "    return missing_data\n",
    "\n",
    "missing_data_before_cleaning = missingDataPercent(df)"
   ]
  },
  {
   "cell_type": "code",
   "execution_count": 12,
   "metadata": {},
   "outputs": [],
   "source": [
    "# Function to return if the cell contains null value or not \n",
    "\n",
    "def null_values_filter(df,i,column):\n",
    "    return list(df.loc[[i],column].isnull())[0]"
   ]
  },
  {
   "cell_type": "code",
   "execution_count": 13,
   "metadata": {},
   "outputs": [],
   "source": [
    "# Filling up the Population column\n",
    "\n",
    "def fill_population(df):\n",
    "    for i in range(len(df)):\n",
    "        if null_values_filter(df,i,'Population') == True:\n",
    "            if null_values_filter(df,i,'Male') == null_values_filter(df,i,'Female') == False:\n",
    "                df.loc[i,\"Population\"] = int(df.loc[i,\"Male\"] + df.loc[i, \"Female\"])\n",
    "            elif null_values_filter(df,i,'Young_and_Adult') == null_values_filter(df,i,'Middle_Aged') == null_values_filter(df,i,\"Senior_Citizen\") == null_values_filter(df,i,'Age_Not_Stated') == False:\n",
    "                df.loc[i,'Population'] = int(df.loc[i,\"Young_and_Adult\"] + df.loc[i,\"Middle_Aged\"] + df.loc[i, \"Senior_Citizen\"] + df.loc[i,\"Age_Not_Stated\"])\n",
    "            elif null_values_filter(df,i,'Hindus') == null_values_filter(df,i,'Muslims') == null_values_filter(df,i,'Christians') == null_values_filter(df,i,'Sikhs') == null_values_filter(df,i,'Buddhists') == null_values_filter(df,i,'Jains') == null_values_filter(df,i,'Others_Religions') == null_values_filter(df,i,'Religion_Not_Stated') == False:\n",
    "                df.loc[i,'Population'] = int(df.loc[i,'Hindus'] + df.loc[i,'Muslims'] + df.loc[i,'Christians'] + df.loc[i,'Sikhs'] + df.loc[i,'Buddhists'] + df.loc[i,'Jains'] + df.loc[i,'Others_Religions'] + df.loc[i,'Religion_Not_Stated'])\n",
    "            elif null_values_filter(df,i,'Workers') == null_values_filter(df,i,'Non_Workers') == False:\n",
    "                df.loc[i,\"Population\"] = int(df.loc[i,'Workers'] + df.loc[i,'Non_Workers'])\n",
    "\n",
    "fill_population(df)"
   ]
  },
  {
   "cell_type": "code",
   "execution_count": 14,
   "metadata": {},
   "outputs": [],
   "source": [
    "# Filling up the Male population\n",
    "\n",
    "def fill_male(df):\n",
    "    for i in range(len(df)):\n",
    "        if null_values_filter(df,i,'Male') == True:\n",
    "            if null_values_filter(df,i,'Population') == null_values_filter(df,i,'Female') == False:\n",
    "                df.loc[i,\"Male\"] = int(df.loc[i,\"Population\"] - df.loc[i,\"Female\"])\n",
    "\n",
    "fill_male(df)"
   ]
  },
  {
   "cell_type": "code",
   "execution_count": 15,
   "metadata": {},
   "outputs": [],
   "source": [
    "# Filling up the Female population\n",
    "\n",
    "def fill_female(df):\n",
    "    for i in range(len(df)):\n",
    "        if null_values_filter(df,i,'Female') == True:\n",
    "            if null_values_filter(df,i,'Population') == null_values_filter(df,i,'Male') == False:\n",
    "                df.loc[i,\"Female\"] = int(df.loc[i,\"Population\"] - df.loc[i,\"Male\"])\n",
    "\n",
    "fill_female(df)"
   ]
  },
  {
   "cell_type": "code",
   "execution_count": 16,
   "metadata": {},
   "outputs": [],
   "source": [
    "# Filling up the Literate population\n",
    "\n",
    "def fill_literate(df):\n",
    "    for i in range(len(df)):\n",
    "        if null_values_filter(df,i,'Literate') == True:\n",
    "            if null_values_filter(df,i,'Literate_Male') == null_values_filter(df,i,'Literate_Female') == False:\n",
    "                df.loc[i,\"Literate\"] = int(df.loc[i,\"Literate_Male\"] + df.loc[i,\"Literate_Female\"])\n",
    "\n",
    "fill_literate(df)"
   ]
  },
  {
   "cell_type": "code",
   "execution_count": 17,
   "metadata": {},
   "outputs": [],
   "source": [
    "# Filling up the Literate Male population\n",
    "\n",
    "def fill_literate_male(df):\n",
    "    for i in range(len(df)):\n",
    "        if null_values_filter(df,i,'Literate_Male') == True:\n",
    "            if null_values_filter(df,i,'Literate') == null_values_filter(df,i,'Literate_Female') == False:\n",
    "                df.loc[i,\"Literate_Male\"] = int(df.loc[i,\"Literate\"] - df.loc[i,\"Literate_Female\"])\n",
    "\n",
    "fill_literate_male(df)"
   ]
  },
  {
   "cell_type": "code",
   "execution_count": 18,
   "metadata": {},
   "outputs": [],
   "source": [
    "# Filling up the Literate Female population\n",
    "\n",
    "def fill_literate_female(df):\n",
    "    for i in range(len(df)):\n",
    "        if null_values_filter(df,i,'Literate_Female') == True:\n",
    "            if null_values_filter(df,i,'Literate') == null_values_filter(df,i,'Literate_Male') == False:\n",
    "                df.loc[i,\"Literate_Female\"] = int(df.loc[i,\"Literate\"] - df.loc[i,\"Literate_Male\"])\n",
    "\n",
    "fill_literate_female(df)"
   ]
  },
  {
   "cell_type": "code",
   "execution_count": 19,
   "metadata": {},
   "outputs": [],
   "source": [
    "# Filling up the SC column\n",
    "\n",
    "def fill_sc(df):\n",
    "    for i in range(len(df)):\n",
    "        if null_values_filter(df,i,'SC') == True:\n",
    "            if null_values_filter(df,i,'Male_SC') == null_values_filter(df,i,'Female_SC') == False:\n",
    "                df.loc[i,\"SC\"] = int(df.loc[i,\"Male_SC\"] + df.loc[i,\"Female_SC\"])\n",
    "\n",
    "fill_sc(df)"
   ]
  },
  {
   "cell_type": "code",
   "execution_count": 20,
   "metadata": {},
   "outputs": [],
   "source": [
    "# Filing up the Male_SC Column\n",
    "\n",
    "def fill_male_sc(df):\n",
    "    for i in range(len(df)):\n",
    "        if null_values_filter(df,i,'Male_SC') == True:\n",
    "            if null_values_filter(df,i,'SC') == null_values_filter(df,i,'Female_SC') == False:\n",
    "                df.loc[i,\"Male_SC\"] = int(df.loc[i,\"SC\"] - df.loc[i,\"Female_SC\"])\n",
    "\n",
    "fill_male_sc(df)"
   ]
  },
  {
   "cell_type": "code",
   "execution_count": 21,
   "metadata": {},
   "outputs": [],
   "source": [
    "# Filing up the Female_SC Column\n",
    "\n",
    "def fill_female_sc(df):\n",
    "    for i in range(len(df)):\n",
    "        if null_values_filter(df,i,'Female_SC') == True:\n",
    "            if null_values_filter(df,i,'SC') == null_values_filter(df,i,'Male_SC') == False:\n",
    "                df.loc[i,'Female_SC'] = int(df.loc[i,'SC'] - df.loc[i,'Male_SC'])\n",
    "\n",
    "fill_female_sc(df)"
   ]
  },
  {
   "cell_type": "code",
   "execution_count": 22,
   "metadata": {},
   "outputs": [],
   "source": [
    "# Filling up the ST column\n",
    "\n",
    "def fill_st(df):\n",
    "    for i in range(len(df)):\n",
    "        if null_values_filter(df,i,'ST') == True:\n",
    "            if null_values_filter(df,i,'Male_ST') == null_values_filter(df,i,'Female_ST') == False:\n",
    "                df.loc[i,\"ST\"] = int(df.loc[i,\"Male_ST\"] + df.loc[i,\"Female_ST\"])\n",
    "\n",
    "fill_st(df)"
   ]
  },
  {
   "cell_type": "code",
   "execution_count": 23,
   "metadata": {},
   "outputs": [],
   "source": [
    "# Filing up the Male_ST Column\n",
    "\n",
    "def fill_male_st(df):\n",
    "    for i in range(len(df)):\n",
    "        if null_values_filter(df,i,'Male_ST') == True:\n",
    "            if null_values_filter(df,i,'ST') == null_values_filter(df,i,'Female_ST') == False:\n",
    "                df.loc[i,\"Male_ST\"] = int(df.loc[i,\"ST\"] - df.loc[i,\"Female_ST\"])\n",
    "\n",
    "fill_male_st(df)"
   ]
  },
  {
   "cell_type": "code",
   "execution_count": 24,
   "metadata": {},
   "outputs": [],
   "source": [
    "# Filing up the Female_ST Column\n",
    "\n",
    "def fill_female_st(df):\n",
    "    for i in range(len(df)):\n",
    "        if null_values_filter(df,i,'Female_ST') == True:\n",
    "            if null_values_filter(df,i,'ST') == null_values_filter(df,i,'Male_ST') == False:\n",
    "                df.loc[i,'Female_ST'] = int(df.loc[i,'ST'] - df.loc[i,'Male_ST'])\n",
    "\n",
    "fill_female_st(df)"
   ]
  },
  {
   "cell_type": "code",
   "execution_count": 25,
   "metadata": {},
   "outputs": [],
   "source": [
    "# Filling up the Workers column\n",
    "\n",
    "def fill_workers(df):\n",
    "    for i in range(len(df)):\n",
    "        if null_values_filter(df,i,'Workers') == True:\n",
    "            if null_values_filter(df,i,'Male_Workers') == null_values_filter(df,i,'Female_Workers') == False:\n",
    "                df.loc[i,\"Workers\"] = int(df.loc[i,\"Male_Workers\"] + df.loc[i,\"Female_Workers\"])\n",
    "            elif null_values_filter(df,i,'Main_Workers') == null_values_filter(df,i,'Marginal_Workers') == False:\n",
    "                df.loc[i,\"Workers\"] = int(df.loc[i,\"Main_Workers\"] + df.loc[i,\"Marginal_Workers\"])\n",
    "            elif null_values_filter(df,i,'Population') == null_values_filter(df,i,'Non_Workers') == False:\n",
    "                df.loc[i,\"Workers\"] = int(df.loc[i,\"Population\"] - df.loc[i,\"Non_Workers\"])\n",
    "\n",
    "fill_workers(df)"
   ]
  },
  {
   "cell_type": "code",
   "execution_count": 26,
   "metadata": {},
   "outputs": [],
   "source": [
    "# Filing up the Male_Workers Column\n",
    "\n",
    "def fill_male_workers(df):\n",
    "    for i in range(len(df)):\n",
    "        if null_values_filter(df,i,'Male_Workers') == True:\n",
    "            if null_values_filter(df,i,'Workers') == null_values_filter(df,i,'Female_Workers') == False:\n",
    "                df.loc[i,\"Male_Workers\"] = int(df.loc[i,\"Workers\"] - df.loc[i,\"Female_Workers\"])\n",
    "\n",
    "fill_male_workers(df)"
   ]
  },
  {
   "cell_type": "code",
   "execution_count": 27,
   "metadata": {},
   "outputs": [],
   "source": [
    "# Filing up the Female_Workers Column\n",
    "\n",
    "def fill_female_workers(df):\n",
    "    for i in range(len(df)):\n",
    "        if null_values_filter(df,i,'Female_Workers') == True:\n",
    "            if null_values_filter(df,i,'Workers') == null_values_filter(df,i,'Male_Workers') == False:\n",
    "                df.loc[i,'Female_Workers'] = int(df.loc[i,'Workers'] - df.loc[i,'Male_Workers'])\n",
    "\n",
    "fill_female_workers(df)"
   ]
  },
  {
   "cell_type": "code",
   "execution_count": 28,
   "metadata": {},
   "outputs": [],
   "source": [
    "# Filling up the Main_Workers column\n",
    "\n",
    "def fill_main_workers(df):\n",
    "    for i in range(len(df)):\n",
    "        if null_values_filter(df,i,'Main_Workers') == True:\n",
    "            if null_values_filter(df,i,'Workers') == null_values_filter(df,i,'Marginal_Workers') == False:\n",
    "                df.loc[i,'Main_Workers'] = int(df.loc[i,'Workers'] - df.loc[i,'Marginal_Workers'])\n",
    "            if null_values_filter(df,i,'Population') == null_values_filter(df,i,'Non_Workers') == null_values_filter(df,i,'Marginal_Workers') == False:\n",
    "                df.loc[i,\"Main_Workers\"] = int(df.loc[i,'Population'] - (df.loc[i,'Non_Workers'] + df.loc[i,'Marginal_Workers']))\n",
    "\n",
    "fill_main_workers(df)"
   ]
  },
  {
   "cell_type": "code",
   "execution_count": 29,
   "metadata": {},
   "outputs": [],
   "source": [
    "# Filling up the Marginal_Workers column\n",
    "\n",
    "def fill_marginal_workers(df):\n",
    "    for i in range(len(df)):\n",
    "        if null_values_filter(df,i,'Marginal_Workers') == True:\n",
    "            if null_values_filter(df,i,'Workers') == null_values_filter(df,i,'Main_Workers') == False:\n",
    "                df.loc[i,'Marginal_Workers'] = int(df.loc[i,'Workers'] - df.loc[i,'Main_Workers'])\n",
    "            elif null_values_filter(df,i,'Population') == null_values_filter(df,i,'Non_Workers') == null_values_filter(df,i,'Main_Workers') == False:\n",
    "                df.loc[i,'Marginal_Workers'] = int(df.loc[i,'Population'] - (df.loc[i,'Non_Workers'] + df.loc[i,'Main_Workers']))\n",
    "\n",
    "fill_marginal_workers(df)"
   ]
  },
  {
   "cell_type": "code",
   "execution_count": 30,
   "metadata": {},
   "outputs": [],
   "source": [
    "# Filling up the Non_Workers column:\n",
    "\n",
    "def fill_non_workers(df):\n",
    "    for i in range(len(df)):\n",
    "        if null_values_filter(df,i,'Non_Workers') == True:\n",
    "            if null_values_filter(df,i,'Population') == null_values_filter(df,i,'Workers') == False:\n",
    "                df.loc[i,'Non_Workers'] = int(df.loc[i,'Population'] - df.loc[i,'Workers'])\n",
    "            elif null_values_filter(df,i,'Population') == null_values_filter(df,i,'Main_Workers') == null_values_filter(df,i,'Marginal_Workers') == False:\n",
    "                df.loc[i,'Non_Workers'] = int(df.loc[i,'Population'] - (df.loc[i,\"Main_Workers\"] + df.loc[i,\"Marginal_Workers\"]))\n",
    "\n",
    "fill_non_workers(df)"
   ]
  },
  {
   "cell_type": "code",
   "execution_count": 31,
   "metadata": {},
   "outputs": [],
   "source": [
    "# Filling up the Cultivator_Workers column\n",
    "\n",
    "def fill_cultivator_workers(df):\n",
    "    for i in range(len(df)):\n",
    "        if null_values_filter(df,i,'Cultivator_Workers') == True:\n",
    "            if null_values_filter(df,i,'Workers') == null_values_filter(df,i,'Agricultural_Workers') == null_values_filter(df,i,'Household_Workers') == null_values_filter(df,i,'Other_Workers') == False:\n",
    "                df.loc[i,\"Cultivator_Workers\"] = int(df.loc[i,'Workers'] - (df.loc[i,'Agricultural_Workers'] + df.loc[i,'Household_Workers'] + df.loc[i,'Other_Workers']))\n",
    "\n",
    "fill_cultivator_workers(df)"
   ]
  },
  {
   "cell_type": "code",
   "execution_count": 32,
   "metadata": {},
   "outputs": [],
   "source": [
    "# Filling up the Agricultural_Workers column\n",
    "\n",
    "def fill_agricultural_workers(df):\n",
    "    for i in range(len(df)):\n",
    "        if null_values_filter(df,i,'Agricultural_Workers') == True:\n",
    "            if null_values_filter(df,i,'Workers') == null_values_filter(df,i,'Cultivator_Workers') == null_values_filter(df,i,'Household_Workers') == null_values_filter(df,i,'Other_Workers') == False:\n",
    "                df.loc[i,\"Agricultural_Workers\"] = int(df.loc[i,'Workers'] - (df.loc[i,'Cultivator_Workers'] + df.loc[i,'Household_Workers'] + df.loc[i,'Other_Workers']))\n",
    "\n",
    "fill_agricultural_workers(df)"
   ]
  },
  {
   "cell_type": "code",
   "execution_count": 33,
   "metadata": {},
   "outputs": [],
   "source": [
    "# Filling up the Household_Workers column\n",
    "\n",
    "def fill_household_workers(df):\n",
    "    for i in range(len(df)):\n",
    "        if null_values_filter(df,i,'Household_Workers') == True:\n",
    "            if null_values_filter(df,i,'Workers') == null_values_filter(df,i,'Cultivator_Workers') == null_values_filter(df,i,'Agricultural_Workers') == null_values_filter(df,i,'Other_Workers') == False:\n",
    "                df.loc[i,\"Household_Workers\"] = int(df.loc[i,'Workers'] - (df.loc[i,'Cultivator_Workers'] + df.loc[i,'Agricultural_Workers'] + df.loc[i,'Other_Workers']))\n",
    "\n",
    "fill_household_workers(df)"
   ]
  },
  {
   "cell_type": "code",
   "execution_count": 34,
   "metadata": {},
   "outputs": [],
   "source": [
    "# Filling up the Other_Workers column\n",
    "\n",
    "def fill_other_workers(df):\n",
    "    for i in range(len(df)):\n",
    "        if null_values_filter(df,i,'Other_Workers') == True:\n",
    "            if null_values_filter(df,i,'Workers') == null_values_filter(df,i,'Cultivator_Workers') == null_values_filter(df,i,'Agricultural_Workers') == null_values_filter(df,i,'Household_Workers') == False:\n",
    "                df.loc[i,\"Other_Workers\"] = int(df.loc[i,'Workers'] - (df.loc[i,'Cultivator_Workers'] + df.loc[i,'Agricultural_Workers'] + df.loc[i,'Household_Workers']))\n",
    "\n",
    "fill_other_workers(df)"
   ]
  },
  {
   "cell_type": "code",
   "execution_count": 35,
   "metadata": {},
   "outputs": [],
   "source": [
    "# Filling up the Hindus column\n",
    "\n",
    "def fill_hindus(df):\n",
    "    for i in range(len(df)):\n",
    "        if null_values_filter(df,i,'Hindus') == True:\n",
    "            if null_values_filter(df,i,'Population') == null_values_filter(df,i,'Muslims') == null_values_filter(df,i,'Christians') == null_values_filter(df,i,'Sikhs') == null_values_filter(df,i,'Buddhists') == null_values_filter(df,i,'Jains') == null_values_filter(df,i,'Others_Religions') == null_values_filter(df,i,'Religion_Not_Stated') == False:\n",
    "                df.loc[i,'Hindus'] = int(df.loc[i,'Population'] - (df.loc[i,'Muslims'] + df.loc[i,'Christians'] + df.loc[i,'Sikhs'] + df.loc[i,'Buddhists'] + df.loc[i,'Jains'] + df.loc[i,'Others_Religions'] + df.loc[i,'Religion_Not_Stated']))\n",
    "\n",
    "fill_hindus(df)"
   ]
  },
  {
   "cell_type": "code",
   "execution_count": 36,
   "metadata": {},
   "outputs": [],
   "source": [
    "# Filling up the Muslims column\n",
    "\n",
    "def fill_muslims(df):\n",
    "    for i in range(len(df)):\n",
    "        if null_values_filter(df,i,'Muslims') == True:\n",
    "            if null_values_filter(df,i,'Population') == null_values_filter(df,i,'Hindus') == null_values_filter(df,i,'Christians') == null_values_filter(df,i,'Sikhs') == null_values_filter(df,i,'Buddhists') == null_values_filter(df,i,'Jains') == null_values_filter(df,i,'Others_Religions') == null_values_filter(df,i,'Religion_Not_Stated') == False:\n",
    "                df.loc[i,'Muslims'] = int(df.loc[i,'Population'] - (df.loc[i,'Hindus'] + df.loc[i,'Christians'] + df.loc[i,'Sikhs'] + df.loc[i,'Buddhists'] + df.loc[i,'Jains'] + df.loc[i,'Others_Religions'] + df.loc[i,'Religion_Not_Stated']))\n",
    "\n",
    "fill_muslims(df)"
   ]
  },
  {
   "cell_type": "code",
   "execution_count": 37,
   "metadata": {},
   "outputs": [],
   "source": [
    "# Filling up the Christians column\n",
    "\n",
    "def fill_christians(df):\n",
    "    for i in range(len(df)):\n",
    "        if null_values_filter(df,i,'Christians') == True:\n",
    "            if null_values_filter(df,i,'Population') == null_values_filter(df,i,'Hindus') == null_values_filter(df,i,'Muslims') == null_values_filter(df,i,'Sikhs') == null_values_filter(df,i,'Buddhists') == null_values_filter(df,i,'Jains') == null_values_filter(df,i,'Others_Religions') == null_values_filter(df,i,'Religion_Not_Stated') == False:\n",
    "                df.loc[i,'Christians'] = int(df.loc[i,'Population'] - (df.loc[i,'Hindus'] + df.loc[i,'Muslims'] + df.loc[i,'Sikhs'] + df.loc[i,'Buddhists'] + df.loc[i,'Jains'] + df.loc[i,'Others_Religions'] + df.loc[i,'Religion_Not_Stated']))\n",
    "\n",
    "fill_christians(df)"
   ]
  },
  {
   "cell_type": "code",
   "execution_count": 38,
   "metadata": {},
   "outputs": [],
   "source": [
    "# Filling up the Sikhs column\n",
    "\n",
    "def fill_sikhs(df):\n",
    "    for i in range(len(df)):\n",
    "        if null_values_filter(df,i,'Sikhs') == True:\n",
    "            if null_values_filter(df,i,'Population') == null_values_filter(df,i,'Hindus') == null_values_filter(df,i,'Muslims') == null_values_filter(df,i,'Christians') == null_values_filter(df,i,'Buddhists') == null_values_filter(df,i,'Jains') == null_values_filter(df,i,'Others_Religions') == null_values_filter(df,i,'Religion_Not_Stated') == False:\n",
    "                df.loc[i,'Sikhs'] = int(df.loc[i,'Population'] - (df.loc[i,'Hindus'] + df.loc[i,'Muslims'] + df.loc[i,'Christians'] + df.loc[i,'Buddhists'] + df.loc[i,'Jains'] + df.loc[i,'Others_Religions'] + df.loc[i,'Religion_Not_Stated']))\n",
    "\n",
    "fill_sikhs(df)"
   ]
  },
  {
   "cell_type": "code",
   "execution_count": 39,
   "metadata": {},
   "outputs": [],
   "source": [
    "# Filling up the Buddhists column\n",
    "\n",
    "def fill_buddhists(df):\n",
    "    for i in range(len(df)):\n",
    "        if null_values_filter(df,i,'Buddhists') == True:\n",
    "            if null_values_filter(df,i,'Population') == null_values_filter(df,i,'Hindus') == null_values_filter(df,i,'Muslims') == null_values_filter(df,i,'Christians') == null_values_filter(df,i,'Sikhs') == null_values_filter(df,i,'Jains') == null_values_filter(df,i,'Others_Religions') == null_values_filter(df,i,'Religion_Not_Stated') == False:\n",
    "                df.loc[i,'Buddhists'] = int(df.loc[i,'Population'] - (df.loc[i,'Hindus'] + df.loc[i,'Muslims'] + df.loc[i,'Christians'] + df.loc[i,'Sikhs'] + df.loc[i,'Jains'] + df.loc[i,'Others_Religions'] + df.loc[i,'Religion_Not_Stated']))\n",
    "\n",
    "fill_buddhists(df)"
   ]
  },
  {
   "cell_type": "code",
   "execution_count": 40,
   "metadata": {},
   "outputs": [],
   "source": [
    "# Filling up the Jains column\n",
    "\n",
    "def fill_jains(df):\n",
    "    for i in range(len(df)):\n",
    "        if null_values_filter(df,i,'Jains') == True:\n",
    "            if null_values_filter(df,i,'Population') == null_values_filter(df,i,'Hindus') == null_values_filter(df,i,'Muslims') == null_values_filter(df,i,'Christians') == null_values_filter(df,i,'Sikhs') == null_values_filter(df,i,'Buddhists') == null_values_filter(df,i,'Others_Religions') == null_values_filter(df,i,'Religion_Not_Stated') == False:\n",
    "                df.loc[i,'Jains'] = int(df.loc[i,'Population'] - (df.loc[i,'Hindus'] + df.loc[i,'Muslims'] + df.loc[i,'Christians'] + df.loc[i,'Sikhs'] + df.loc[i,'Buddhists'] + df.loc[i,'Others_Religions'] + df.loc[i,'Religion_Not_Stated']))\n",
    "\n",
    "fill_jains(df)"
   ]
  },
  {
   "cell_type": "code",
   "execution_count": 41,
   "metadata": {},
   "outputs": [],
   "source": [
    "# Filling up the Others_Religions column\n",
    "\n",
    "def fill_others_religions(df):\n",
    "    for i in range(len(df)):\n",
    "        if null_values_filter(df,i,'Others_Religions') == True:\n",
    "            if null_values_filter(df,i,'Population') == null_values_filter(df,i,'Hindus') == null_values_filter(df,i,'Muslims') == null_values_filter(df,i,'Christians') == null_values_filter(df,i,'Sikhs') == null_values_filter(df,i,'Buddhists') == null_values_filter(df,i,'Jains') == null_values_filter(df,i,'Religion_Not_Stated') == False:\n",
    "                df.loc[i,'Others_Religions'] = int(df.loc[i,'Population'] - (df.loc[i,'Hindus'] + df.loc[i,'Muslims'] + df.loc[i,'Christians'] + df.loc[i,'Sikhs'] + df.loc[i,'Buddhists'] + df.loc[i,'Jains'] + df.loc[i,'Religion_Not_Stated']))\n",
    "\n",
    "fill_others_religions(df)"
   ]
  },
  {
   "cell_type": "code",
   "execution_count": 42,
   "metadata": {},
   "outputs": [],
   "source": [
    "# Filling up the Religion_Not_Stated column\n",
    "\n",
    "def fill_religion_not_stated(df):\n",
    "    for i in range(len(df)):\n",
    "        if null_values_filter(df,i,'Religion_Not_Stated') == True:\n",
    "            if null_values_filter(df,i,'Population') == null_values_filter(df,i,'Hindus') == null_values_filter(df,i,'Muslims') == null_values_filter(df,i,'Christians') == null_values_filter(df,i,'Sikhs') == null_values_filter(df,i,'Buddhists') == null_values_filter(df,i,'Jains') == null_values_filter(df,i,'Others_Religions') == False:\n",
    "                df.loc[i,'Religion_Not_Stated'] = int(df.loc[i,'Population'] - (df.loc[i,'Hindus'] + df.loc[i,'Muslims'] + df.loc[i,'Christians'] + df.loc[i,'Sikhs'] + df.loc[i,'Buddhists'] + df.loc[i,'Jains'] + df.loc[i,'Others_Religions']))\n",
    "\n",
    "fill_religion_not_stated(df)"
   ]
  },
  {
   "cell_type": "code",
   "execution_count": 43,
   "metadata": {},
   "outputs": [],
   "source": [
    "# Filling up the Households_Rural column\n",
    "\n",
    "def fill_households_rural(df):\n",
    "    for i in range(len(df)):\n",
    "        if null_values_filter(df,i,'Households_Rural') == True:\n",
    "            if null_values_filter(df,i,'Households') == null_values_filter(df,i,'Households_Urban') == False:\n",
    "                df.loc[i,'Households_Rural'] = int(df.loc[i,\"Households\"] - df.loc[i,'Households_Urban'])\n",
    "\n",
    "fill_households_rural(df)"
   ]
  },
  {
   "cell_type": "code",
   "execution_count": 44,
   "metadata": {},
   "outputs": [],
   "source": [
    "# Filling up the Households_Urban column\n",
    "\n",
    "def fill_households_urban(df):\n",
    "    for i in range(len(df)):\n",
    "        if null_values_filter(df,i,'Households_Urban') == True:\n",
    "            if null_values_filter(df,i,'Households') == null_values_filter(df,i,'Households_Rural') == False:\n",
    "                df.loc[i,'Households_Urban'] = int(df.loc[i,\"Households\"] - df.loc[i,'Households_Rural'])\n",
    "\n",
    "fill_households_urban(df)"
   ]
  },
  {
   "cell_type": "code",
   "execution_count": 45,
   "metadata": {},
   "outputs": [],
   "source": [
    "# Filling up the Households column\n",
    "\n",
    "def fill_households(df):\n",
    "    for i in range(len(df)):\n",
    "        if null_values_filter(df,i,'Households') == True:\n",
    "            if null_values_filter(df,i,'Households_Urban') == null_values_filter(df,i,'Households_Rural') == False:\n",
    "                df.loc[i,'Households'] = int(df.loc[i,\"Households_Urban\"] + df.loc[i,'Households_Rural'])\n",
    "\n",
    "fill_households(df)"
   ]
  },
  {
   "cell_type": "code",
   "execution_count": 46,
   "metadata": {},
   "outputs": [],
   "source": [
    "# Filling up the Literate Education column\n",
    "\n",
    "def fill_literate_education(df):\n",
    "    for i in range(len(df)):\n",
    "        if null_values_filter(df,i,'Literate_Education') == True:\n",
    "            if null_values_filter(df,i,'Below_Primary_Education') == null_values_filter(df,i,'Primary_Education') == null_values_filter(df,i,'Middle_Education') == null_values_filter(df,i,'Secondary_Education') == null_values_filter(df,i,'Higher_Education') == null_values_filter(df,i,'Graduate_Education') == null_values_filter(df,i,'Other_Education') == False:\n",
    "                df.loc[i,'Literate_Education'] = df.loc[i,'Below_Primary_Education'] + df.loc[i,'Primary_Education'] + df.loc[i,'Middle_Education'] + df.loc[i,'Secondary_Education'] + df.loc[i,'Higher_Education'] + df.loc[i,'Graduate_Education'] + df.loc[i,'Other_Education']\n",
    "            elif null_values_filter(df,i,'Illiterate_Education') == null_values_filter(df,i,'Total_Education') == False:\n",
    "                df.loc[i,'Literate_Education'] = int(df.loc[i,'Total_Education'] - df.loc[i,'Illiterate_Education'])\n",
    "\n",
    "fill_literate_education(df)"
   ]
  },
  {
   "cell_type": "code",
   "execution_count": 47,
   "metadata": {},
   "outputs": [],
   "source": [
    "# Filling up the Below_Primary_Education column\n",
    "\n",
    "def fill_below_primary_education(df):\n",
    "    for i in range(len(df)):\n",
    "        if null_values_filter(df,i,'Below_Primary_Education') == True:\n",
    "            if null_values_filter(df,i,'Literate_Education') == null_values_filter(df,i,'Primary_Education') == null_values_filter(df,i,'Middle_Education') == null_values_filter(df,i,'Secondary_Education') == null_values_filter(df,i,'Higher_Education') == null_values_filter(df,i,'Graduate_Education') == null_values_filter(df,i,'Other_Education') == False:\n",
    "                df.loc[i,'Below_Primary_Education'] = int(df.loc[i,'Literate_Education'] - (df.loc[i,'Primary_Education'] + df.loc[i,'Middle_Education'] + df.loc[i,'Secondary_Education'] + df.loc[i,'Higher_Education'] + df.loc[i,'Graduate_Education'] + df.loc[i,'Other_Education']))\n",
    "\n",
    "fill_below_primary_education(df)"
   ]
  },
  {
   "cell_type": "code",
   "execution_count": 48,
   "metadata": {},
   "outputs": [],
   "source": [
    "# Filling up the Primary_Education column\n",
    "\n",
    "def fill_primary_education(df):\n",
    "    for i in range(len(df)):\n",
    "        if null_values_filter(df,i,'Primary_Education') == True:\n",
    "            if null_values_filter(df,i,'Literate_Education') == null_values_filter(df,i,'Below_Primary_Education') == null_values_filter(df,i,'Middle_Education') == null_values_filter(df,i,'Secondary_Education') == null_values_filter(df,i,'Higher_Education') == null_values_filter(df,i,'Graduate_Education') == null_values_filter(df,i,'Other_Education') == False:\n",
    "                df.loc[i,'Primary_Education'] = int(df.loc[i,'Literate_Education'] - (df.loc[i,'Below_Primary_Education'] + df.loc[i,'Middle_Education'] + df.loc[i,'Secondary_Education'] + df.loc[i,'Higher_Education'] + df.loc[i,'Graduate_Education'] + df.loc[i,'Other_Education']))\n",
    "\n",
    "fill_primary_education(df)"
   ]
  },
  {
   "cell_type": "code",
   "execution_count": 49,
   "metadata": {},
   "outputs": [],
   "source": [
    "# Filling up the Middle_Education column\n",
    "\n",
    "def fill_middle_education(df):\n",
    "    for i in range(len(df)):\n",
    "        if null_values_filter(df,i,'Middle_Education') == True:\n",
    "            if null_values_filter(df,i,'Literate_Education') == null_values_filter(df,i,'Below_Primary_Education') == null_values_filter(df,i,'Primary_Education') == null_values_filter(df,i,'Secondary_Education') == null_values_filter(df,i,'Higher_Education') == null_values_filter(df,i,'Graduate_Education') == null_values_filter(df,i,'Other_Education') == False:\n",
    "                df.loc[i,'Middle_Education'] = int(df.loc[i,'Literate_Education'] - (df.loc[i,'Below_Primary_Education'] + df.loc[i,'Primary_Education'] + df.loc[i,'Secondary_Education'] + df.loc[i,'Higher_Education'] + df.loc[i,'Graduate_Education'] + df.loc[i,'Other_Education']))\n",
    "\n",
    "fill_middle_education(df)"
   ]
  },
  {
   "cell_type": "code",
   "execution_count": 50,
   "metadata": {},
   "outputs": [],
   "source": [
    "# Filling up the Secondary_Education column\n",
    "\n",
    "def fill_secondary_education(df):\n",
    "    for i in range(len(df)):\n",
    "        if null_values_filter(df,i,'Secondary_Education') == True:\n",
    "            if null_values_filter(df,i,'Literate_Education') == null_values_filter(df,i,'Below_Primary_Education') == null_values_filter(df,i,'Primary_Education') == null_values_filter(df,i,'Middle_Education') == null_values_filter(df,i,'Higher_Education') == null_values_filter(df,i,'Graduate_Education') == null_values_filter(df,i,'Other_Education') == False:\n",
    "                df.loc[i,'Secondary_Education'] = int(df.loc[i,'Literate_Education'] - (df.loc[i,'Below_Primary_Education'] + df.loc[i,'Primary_Education'] + df.loc[i,'Middle_Education'] + df.loc[i,'Higher_Education'] + df.loc[i,'Graduate_Education'] + df.loc[i,'Other_Education']))\n",
    "\n",
    "fill_secondary_education(df)"
   ]
  },
  {
   "cell_type": "code",
   "execution_count": 51,
   "metadata": {},
   "outputs": [],
   "source": [
    "# Filling up the Higher_Education column\n",
    "\n",
    "def fill_higher_education(df):\n",
    "    for i in range(len(df)):\n",
    "        if null_values_filter(df,i,'Higher_Education') == True:\n",
    "            if null_values_filter(df,i,'Literate_Education') == null_values_filter(df,i,'Below_Primary_Education') == null_values_filter(df,i,'Primary_Education') == null_values_filter(df,i,'Middle_Education') == null_values_filter(df,i,'Secondary_Education') == null_values_filter(df,i,'Graduate_Education') == null_values_filter(df,i,'Other_Education') == False:\n",
    "                df.loc[i,'Higher_Education'] = int(df.loc[i,'Literate_Education'] - (df.loc[i,'Below_Primary_Education'] + df.loc[i,'Primary_Education'] + df.loc[i,'Middle_Education'] + df.loc[i,'Secondary_Education'] + df.loc[i,'Graduate_Education'] + df.loc[i,'Other_Education']))\n",
    "\n",
    "fill_higher_education(df)"
   ]
  },
  {
   "cell_type": "code",
   "execution_count": 52,
   "metadata": {},
   "outputs": [],
   "source": [
    "# Filling up the Graduate_Education column\n",
    "\n",
    "def fill_graduate_education(df):\n",
    "    for i in range(len(df)):\n",
    "        if null_values_filter(df,i,'Graduate_Education') == True:\n",
    "            if null_values_filter(df,i,'Literate_Education') == null_values_filter(df,i,'Below_Primary_Education') == null_values_filter(df,i,'Primary_Education') == null_values_filter(df,i,'Middle_Education') == null_values_filter(df,i,'Secondary_Education') == null_values_filter(df,i,'Higher_Education') == null_values_filter(df,i,'Other_Education') == False:\n",
    "                df.loc[i,'Graduate_Education'] = int(df.loc[i,'Literate_Education'] - (df.loc[i,'Below_Primary_Education'] + df.loc[i,'Primary_Education'] + df.loc[i,'Middle_Education'] + df.loc[i,'Secondary_Education'] + df.loc[i,'Higher_Education'] + df.loc[i,'Other_Education']))\n",
    "\n",
    "fill_graduate_education(df)"
   ]
  },
  {
   "cell_type": "code",
   "execution_count": 53,
   "metadata": {},
   "outputs": [],
   "source": [
    "# Filling up the Other_Education column\n",
    "\n",
    "def fill_other_education(df):\n",
    "    for i in range(len(df)):\n",
    "        if null_values_filter(df,i,'Other_Education') == True:\n",
    "            if null_values_filter(df,i,'Literate_Education') == null_values_filter(df,i,'Below_Primary_Education') == null_values_filter(df,i,'Primary_Education') == null_values_filter(df,i,'Middle_Education') == null_values_filter(df,i,'Secondary_Education') == null_values_filter(df,i,'Higher_Education') == null_values_filter(df,i,'Graduate_Education') == False:\n",
    "                df.loc[i,'Other_Education'] = int(df.loc[i,'Literate_Education'] - (df.loc[i,'Below_Primary_Education'] + df.loc[i,'Primary_Education'] + df.loc[i,'Middle_Education'] + df.loc[i,'Secondary_Education'] + df.loc[i,'Higher_Education'] + df.loc[i,'Graduate_Education']))\n",
    "\n",
    "fill_other_education(df)"
   ]
  },
  {
   "cell_type": "code",
   "execution_count": 54,
   "metadata": {},
   "outputs": [],
   "source": [
    "# Filling up the Illiterate_Education column\n",
    "\n",
    "def fill_illiterate_education(df):\n",
    "    for i in range(len(df)):\n",
    "        if null_values_filter(df,i,'Illiterate_Education') == True:\n",
    "            if null_values_filter(df,i,'Literate_Education') == null_values_filter(df,i,'Total_Education') == False:\n",
    "                df.loc[i,'Illiterate_Education'] = int(df.loc[i,'Total_Education'] - df.loc[i,'Literate_Education'])\n",
    "\n",
    "fill_illiterate_education(df)"
   ]
  },
  {
   "cell_type": "code",
   "execution_count": 55,
   "metadata": {},
   "outputs": [],
   "source": [
    "# Filling up the Total_Education column\n",
    "\n",
    "def fill_total_education(df):\n",
    "    for i in range(len(df)):\n",
    "        if null_values_filter(df,i,'Total_Education') == True:\n",
    "            if null_values_filter(df,i,'Literate_Education') == null_values_filter(df,i,'Illiterate_Education') == False:\n",
    "                df.loc[i,'Total_Education'] = int(df.loc[i,'Literate_Education'] + df.loc[i,'Illiterate_Education'])\n",
    "\n",
    "fill_total_education(df)"
   ]
  },
  {
   "cell_type": "code",
   "execution_count": 56,
   "metadata": {},
   "outputs": [],
   "source": [
    "# Filling up the Young_and_Adult column\n",
    "\n",
    "def fill_young_and_adult(df):\n",
    "    for i in range(len(df)):\n",
    "        if null_values_filter(df,i,'Young_and_Adult') == True:\n",
    "            if null_values_filter(df,i,'Population') == null_values_filter(df,i,'Middle_Aged') == null_values_filter(df,i,'Senior_Citizen') == null_values_filter(df,i,'Age_Not_Stated') == False:\n",
    "                df.loc[i,'Young_and_Adult'] = int(df.loc[i,'Population'] - (df.loc[i,'Middle_Aged'] + df.loc[i,'Senior_Citizen'] + df.loc[i,'Age_Not_Stated']))\n",
    "\n",
    "fill_young_and_adult(df)"
   ]
  },
  {
   "cell_type": "code",
   "execution_count": 57,
   "metadata": {},
   "outputs": [],
   "source": [
    "# Filling up the Middle_Aged column\n",
    "\n",
    "def fill_middle_aged(df):\n",
    "    for i in range(len(df)):\n",
    "        if null_values_filter(df,i,'Middle_Aged') == True:\n",
    "            if null_values_filter(df,i,'Population') == null_values_filter(df,i,'Young_and_Adult') == null_values_filter(df,i,'Senior_Citizen') == null_values_filter(df,i,'Age_Not_Stated') == False:\n",
    "                df.loc[i,'Middle_Aged'] = int(df.loc[i,'Population'] - (df.loc[i,'Young_and_Adult'] + df.loc[i,'Senior_Citizen'] + df.loc[i,'Age_Not_Stated']))\n",
    "\n",
    "fill_middle_aged(df)"
   ]
  },
  {
   "cell_type": "code",
   "execution_count": 58,
   "metadata": {},
   "outputs": [],
   "source": [
    "# Filling up the Senior_Citizen column\n",
    "\n",
    "def fill_senior_citizen(df):\n",
    "    for i in range(len(df)):\n",
    "        if null_values_filter(df,i,'Senior_Citizen') == True:\n",
    "            if null_values_filter(df,i,'Population') == null_values_filter(df,i,'Young_and_Adult') == null_values_filter(df,i,'Middle_Aged') == null_values_filter(df,i,'Age_Not_Stated') == False:\n",
    "                df.loc[i,'Senior_Citizen'] = int(df.loc[i,'Population'] - (df.loc[i,'Young_and_Adult'] + df.loc[i,'Middle_Aged'] + df.loc[i,'Age_Not_Stated']))\n",
    "\n",
    "fill_senior_citizen(df)"
   ]
  },
  {
   "cell_type": "code",
   "execution_count": 59,
   "metadata": {},
   "outputs": [],
   "source": [
    "# Filling up the Senior_Citizen column\n",
    "\n",
    "def fill_age_not_stated(df):\n",
    "    for i in range(len(df)):\n",
    "        if null_values_filter(df,i,'Age_Not_Stated') == True:\n",
    "            if null_values_filter(df,i,'Population') == null_values_filter(df,i,'Young_and_Adult') == null_values_filter(df,i,'Middle_Aged') == null_values_filter(df,i,'Senior_Citizen') == False:\n",
    "                df.loc[i,'Age_Not_Stated'] = int(df.loc[i,'Population'] - (df.loc[i,'Young_and_Adult'] + df.loc[i,'Middle_Aged'] + df.loc[i,'Senior_Citizen']))\n",
    "\n",
    "fill_age_not_stated(df)"
   ]
  },
  {
   "cell_type": "code",
   "execution_count": 60,
   "metadata": {},
   "outputs": [],
   "source": [
    "# Filling up the Household_size_1_person_Households column\n",
    "\n",
    "def fill_household_size_1_person_households(df):\n",
    "    for i in range(len(df)):\n",
    "        if null_values_filter(df,i,'Household_size_1_person_Households') == True:\n",
    "            if null_values_filter(df,i,'Household_size_1_to_2_persons') == null_values_filter(df,i,'Household_size_2_persons_Households') == False:\n",
    "                df.loc[i,'Household_size_1_person_Households'] = int(df.loc[i,'Household_size_1_to_2_persons'] - df.loc[i,'Household_size_2_persons_Households'])\n",
    "\n",
    "fill_household_size_1_person_households(df)"
   ]
  },
  {
   "cell_type": "code",
   "execution_count": 61,
   "metadata": {},
   "outputs": [],
   "source": [
    "# Filling up the Household_size_2_persons_Households column\n",
    "\n",
    "def fill_household_size_2_persons_households(df):\n",
    "    for i in range(len(df)):\n",
    "        if null_values_filter(df,i,'Household_size_2_persons_Households') == True:\n",
    "            if null_values_filter(df,i,'Household_size_1_to_2_persons') == null_values_filter(df,i,'Household_size_1_person_Households') == False:\n",
    "                df.loc[i,'Household_size_2_persons_Households'] = int(df.loc[i,'Household_size_1_to_2_persons'] - df.loc[i,'Household_size_1_person_Households'])\n",
    "\n",
    "fill_household_size_2_persons_households(df)"
   ]
  },
  {
   "cell_type": "code",
   "execution_count": 62,
   "metadata": {},
   "outputs": [],
   "source": [
    "# Filling up the Household_size_1_to_2_persons column\n",
    "\n",
    "def fill_household_size_1_to_2_persons(df):\n",
    "    for i in range(len(df)):\n",
    "        if null_values_filter(df,i,'Household_size_1_to_2_persons') == True:\n",
    "            if null_values_filter(df,i,'Household_size_1_person_Households') == null_values_filter(df,i,'Household_size_2_persons_Households') == False:\n",
    "                df.loc[i,'Household_size_1_to_2_persons'] = int(df.loc[i,'Household_size_1_person_Households'] + df.loc[i,'Household_size_2_persons_Households'])\n",
    "\n",
    "fill_household_size_1_to_2_persons(df)"
   ]
  },
  {
   "cell_type": "code",
   "execution_count": 63,
   "metadata": {},
   "outputs": [],
   "source": [
    "# Filling up the Household_size_3_persons_Households column\n",
    "\n",
    "def fill_household_size_3_persons_households(df):\n",
    "    for i in range(len(df)):\n",
    "        if null_values_filter(df,i,'Household_size_3_persons_Households') == True:\n",
    "            if null_values_filter(df,i,'Household_size_4_persons_Households') ==  null_values_filter(df,i,'Household_size_5_persons_Households') == null_values_filter(df,i,'Household_size_3_to_5_persons_Households') == False:\n",
    "                df.loc[i,'Household_size_3_persons_Households'] = int(df.loc[i,'Household_size_3_to_5_persons_Households'] - (df.loc[i,'Household_size_4_persons_Households'] + df.loc[i,'Household_size_5_persons_Households']))\n",
    "\n",
    "fill_household_size_3_persons_households(df)"
   ]
  },
  {
   "cell_type": "code",
   "execution_count": 64,
   "metadata": {},
   "outputs": [],
   "source": [
    "# Filling up the Household_size_4_persons_Households column\n",
    "\n",
    "def fill_household_size_4_persons_households(df):\n",
    "    for i in range(len(df)):\n",
    "        if null_values_filter(df,i,'Household_size_4_persons_Households') == True:\n",
    "            if null_values_filter(df,i,'Household_size_3_persons_Households') ==  null_values_filter(df,i,'Household_size_5_persons_Households') == null_values_filter(df,i,'Household_size_3_to_5_persons_Households') == False:\n",
    "                df.loc[i,'Household_size_4_persons_Households'] = int(df.loc[i,'Household_size_3_to_5_persons_Households'] - (df.loc[i,'Household_size_3_persons_Households'] + df.loc[i,'Household_size_5_persons_Households']))\n",
    "\n",
    "fill_household_size_4_persons_households(df)"
   ]
  },
  {
   "cell_type": "code",
   "execution_count": 65,
   "metadata": {},
   "outputs": [],
   "source": [
    "# Filling up the Household_size_5_persons_Households column\n",
    "\n",
    "def fill_household_size_5_persons_households(df):\n",
    "    for i in range(len(df)):\n",
    "        if null_values_filter(df,i,'Household_size_5_persons_Households') == True:\n",
    "            if null_values_filter(df,i,'Household_size_3_persons_Households') ==  null_values_filter(df,i,'Household_size_4_persons_Households') == null_values_filter(df,i,'Household_size_3_to_5_persons_Households') == False:\n",
    "                df.loc[i,'Household_size_5_persons_Households'] = int(df.loc[i,'Household_size_3_to_5_persons_Households'] - (df.loc[i,'Household_size_3_persons_Households'] + df.loc[i,'Household_size_4_persons_Households']))\n",
    "\n",
    "fill_household_size_5_persons_households(df)"
   ]
  },
  {
   "cell_type": "code",
   "execution_count": 66,
   "metadata": {},
   "outputs": [],
   "source": [
    "# Filling up the Household_size_3_to_5_persons_Households column\n",
    "\n",
    "def fill_household_size_3_to_5_persons_households(df):\n",
    "    for i in range(len(df)):\n",
    "        if null_values_filter(df,i,'Household_size_3_to_5_persons_Households') == True:\n",
    "            if null_values_filter(df,i,'Household_size_3_persons_Households') == null_values_filter(df,i,'Household_size_4_persons_Households') == null_values_filter(df,i,'Household_size_5_persons_Households') == False:\n",
    "                df.loc[i,'Household_size_3_to_5_persons_Households'] = int(df.loc[i,'Household_size_3_persons_Households'] + df.loc[i,'Household_size_4_persons_Households'] + df.loc[i,'Household_size_5_persons_Households'])\n",
    "\n",
    "fill_household_size_3_to_5_persons_households(df)"
   ]
  },
  {
   "cell_type": "code",
   "execution_count": 67,
   "metadata": {},
   "outputs": [],
   "source": [
    "# Filling up the Power_Parity_Rs_45000_90000 column\n",
    "\n",
    "def fill_power_parity_rs_45000_90000(df):\n",
    "    for i in range(len(df)):\n",
    "        if null_values_filter(df,i,'Power_Parity_Rs_45000_90000') == True:\n",
    "            if null_values_filter(df,i,'Power_Parity_Rs_90000_150000') == null_values_filter(df,i,'Power_Parity_Rs_45000_150000') == False:\n",
    "                df.loc[i,'Power_Parity_Rs_45000_90000'] = int(df.loc[i,'Power_Parity_Rs_45000_150000'] - df.loc[i,'Power_Parity_Rs_90000_150000'])\n",
    "            elif null_values_filter(df,i,'Total_Power_Parity') == null_values_filter(df,i,'Power_Parity_Less_than_Rs_45000') == null_values_filter(df,i,'Power_Parity_Rs_90000_150000') == null_values_filter(df,i,'Power_Parity_Rs_150000_240000') == null_values_filter(df,i,'Power_Parity_Rs_240000_330000') == null_values_filter(df,i,'Power_Parity_Rs_330000_425000') == null_values_filter(df,i,'Power_Parity_Rs_425000_545000') == null_values_filter(df,i,'Power_Parity_Above_Rs_545000') == False:\n",
    "                df.loc[i,'Power_Parity_Rs_45000_90000'] = int(df.loc[i,'Total_Power_Parity'] - (df.loc[i,'Power_Parity_Less_than_Rs_45000'] + df.loc[i,'Power_Parity_Rs_90000_150000'] + df.loc[i,'Power_Parity_Rs_150000_240000'] + df.loc[i,'Power_Parity_Rs_240000_330000'] + df.loc[i,'Power_Parity_Rs_330000_425000'] + df.loc[i,'Power_Parity_Rs_425000_545000'] + df.loc[i,'Power_Parity_Above_Rs_545000']))\n",
    "\n",
    "fill_power_parity_rs_45000_90000(df)"
   ]
  },
  {
   "cell_type": "code",
   "execution_count": 68,
   "metadata": {},
   "outputs": [],
   "source": [
    "# Filling up the Power_Parity_Rs_90000_150000 column\n",
    "\n",
    "def fill_power_parity_rs_90000_150000(df):\n",
    "    for i in range(len(df)):\n",
    "        if null_values_filter(df,i,'Power_Parity_Rs_90000_150000') == True:\n",
    "            if null_values_filter(df,i,'Power_Parity_Rs_45000_150000') == null_values_filter(df,i,'Power_Parity_Rs_45000_90000') == False:\n",
    "                df.loc[i,'Power_Parity_Rs_90000_150000'] = int(df.loc[i,'Power_Parity_Rs_45000_150000'] - df.loc[i,'Power_Parity_Rs_45000_90000'])\n",
    "            elif null_values_filter(df,i,'Total_Power_Parity') == null_values_filter(df,i,'Power_Parity_Less_than_Rs_45000') == null_values_filter(df,i,'Power_Parity_Rs_45000_90000') == null_values_filter(df,i,'Power_Parity_Rs_150000_240000') == null_values_filter(df,i,'Power_Parity_Rs_240000_330000') == null_values_filter(df,i,'Power_Parity_Rs_330000_425000') == null_values_filter(df,i,'Power_Parity_Rs_425000_545000') == null_values_filter(df,i,'Power_Parity_Above_Rs_545000') == False:\n",
    "                df.loc[i,'Power_Parity_Rs_90000_150000'] = int(df.loc[i,'Total_Power_Parity'] - (df.loc[i,'Power_Parity_Less_than_Rs_45000'] + df.loc[i,'Power_Parity_Rs_45000_90000'] + df.loc[i,'Power_Parity_Rs_150000_240000'] + df.loc[i,'Power_Parity_Rs_240000_330000'] + df.loc[i,'Power_Parity_Rs_330000_425000'] + df.loc[i,'Power_Parity_Rs_425000_545000'] + df.loc[i,'Power_Parity_Above_Rs_545000']))\n",
    "\n",
    "fill_power_parity_rs_90000_150000(df)"
   ]
  },
  {
   "cell_type": "code",
   "execution_count": 69,
   "metadata": {},
   "outputs": [],
   "source": [
    "# filling up the Power_Parity_Rs_45000_150000 column\n",
    "\n",
    "def fill_power_parity_rs_45000_150000(df):\n",
    "    for i in range(len(df)):\n",
    "        if null_values_filter(df,i,'Power_Parity_Rs_45000_150000') == True:\n",
    "            if null_values_filter(df,i,'Power_Parity_Rs_45000_90000') == null_values_filter(df,i,'Power_Parity_Rs_90000_150000') == False:\n",
    "                df.loc[i,'Power_Parity_Rs_45000_150000'] = int(df.loc[i,'Power_Parity_Rs_45000_90000'] + df.loc[i,'Power_Parity_Rs_90000_150000'])\n",
    "            elif null_values_filter(df,i,'Total_Power_Parity') == null_values_filter(df,i,'Power_Parity_Less_than_Rs_45000') == null_values_filter(df,i,'Power_Parity_Rs_150000_240000') == null_values_filter(df,i,'Power_Parity_Rs_240000_330000') == null_values_filter(df,i,'Power_Parity_Rs_330000_425000') == null_values_filter(df,i,'Power_Parity_Rs_425000_545000') == null_values_filter(df,i,'Power_Parity_Above_Rs_545000') == False:\n",
    "                df.loc[i,'Power_Parity_Rs_45000_150000'] = int(df.loc[i,'Total_Power_Parity'] - (df.loc[i,'Power_Parity_Less_than_Rs_45000'] + df.loc[i,'Power_Parity_Rs_150000_240000'] + df.loc[i,'Power_Parity_Rs_240000_330000'] + df.loc[i,'Power_Parity_Rs_330000_425000'] + df.loc[i,'Power_Parity_Rs_425000_545000'] + df.loc[i,'Power_Parity_Above_Rs_545000']))\n",
    "\n",
    "fill_power_parity_rs_45000_150000(df)"
   ]
  },
  {
   "cell_type": "code",
   "execution_count": 70,
   "metadata": {},
   "outputs": [],
   "source": [
    "# filling up the Power_Parity_Rs_150000_240000 column\n",
    "\n",
    "def fill_power_parity_rs_150000_240000(df):\n",
    "    for i in range(len(df)):\n",
    "        if null_values_filter(df,i,'Power_Parity_Rs_150000_240000') == True:\n",
    "            if null_values_filter(df,i,'Power_Parity_Rs_240000_330000') == null_values_filter(df,i,'Power_Parity_Rs_150000_330000') == False:\n",
    "                df.loc[i,'Power_Parity_Rs_150000_240000'] = int(df.loc[i,'Power_Parity_Rs_150000_330000'] - df.loc[i,'Power_Parity_Rs_240000_330000'])\n",
    "            elif null_values_filter(df,i,'Total_Power_Parity') == null_values_filter(df,i,'Power_Parity_Less_than_Rs_45000') == null_values_filter(df,i,'Power_Parity_Rs_45000_90000') == null_values_filter(df,i,'Power_Parity_Rs_90000_150000') == null_values_filter(df,i,'Power_Parity_Rs_240000_330000') == null_values_filter(df,i,'Power_Parity_Rs_330000_425000') == null_values_filter(df,i,'Power_Parity_Rs_425000_545000') == null_values_filter(df,i,'Power_Parity_Above_Rs_545000') == False:\n",
    "                df.loc[i,'Power_Parity_Rs_150000_240000'] = int(df.loc[i,'Total_Power_Parity'] - (df.loc[i,'Power_Parity_Less_than_Rs_45000'] + df.loc[i,'Power_Parity_Rs_45000_90000'] + df.loc[i,'Power_Parity_Rs_90000_150000'] + df.loc[i,'Power_Parity_Rs_240000_330000'] + df.loc[i,'Power_Parity_Rs_330000_425000'] + df.loc[i,'Power_Parity_Rs_425000_545000'] + df.loc[i,'Power_Parity_Above_Rs_545000']))\n",
    "\n",
    "fill_power_parity_rs_150000_240000(df)"
   ]
  },
  {
   "cell_type": "code",
   "execution_count": 71,
   "metadata": {},
   "outputs": [],
   "source": [
    "# filling up the Power_Parity_Rs_240000_330000 column\n",
    "\n",
    "def fill_power_parity_rs_240000_330000(df):\n",
    "    for i in range(len(df)):\n",
    "        if null_values_filter(df,i,'Power_Parity_Rs_240000_330000') == True:\n",
    "            if null_values_filter(df,i,'Power_Parity_Rs_150000_240000') == null_values_filter(df,i,'Power_Parity_Rs_150000_330000') == False:\n",
    "                df.loc[i,'Power_Parity_Rs_240000_330000'] = int(df.loc[i,'Power_Parity_Rs_150000_330000'] - df.loc[i,'Power_Parity_Rs_150000_240000'])\n",
    "            elif null_values_filter(df,i,'Total_Power_Parity') == null_values_filter(df,i,'Power_Parity_Less_than_Rs_45000') == null_values_filter(df,i,'Power_Parity_Rs_45000_90000') == null_values_filter(df,i,'Power_Parity_Rs_90000_150000') == null_values_filter(df,i,'Power_Parity_Rs_150000_240000') == null_values_filter(df,i,'Power_Parity_Rs_330000_425000') == null_values_filter(df,i,'Power_Parity_Rs_425000_545000') == null_values_filter(df,i,'Power_Parity_Above_Rs_545000') == False:\n",
    "                df.loc[i,'Power_Parity_Rs_240000_330000'] = int(df.loc[i,'Total_Power_Parity'] - (df.loc[i,'Power_Parity_Less_than_Rs_45000'] + df.loc[i,'Power_Parity_Rs_45000_90000'] + df.loc[i,'Power_Parity_Rs_90000_150000'] + df.loc[i,'Power_Parity_Rs_150000_240000'] + df.loc[i,'Power_Parity_Rs_330000_425000'] + df.loc[i,'Power_Parity_Rs_425000_545000'] + df.loc[i,'Power_Parity_Above_Rs_545000']))\n",
    "\n",
    "fill_power_parity_rs_240000_330000(df)"
   ]
  },
  {
   "cell_type": "code",
   "execution_count": 72,
   "metadata": {},
   "outputs": [],
   "source": [
    "# filling up the Power_Parity_Rs_150000_330000 column\n",
    "\n",
    "def fill_power_parity_rs_150000_330000(df):\n",
    "    for i in range(len(df)):\n",
    "        if null_values_filter(df,i,'Power_Parity_Rs_150000_330000') == True:\n",
    "            if null_values_filter(df,i,'Power_Parity_Rs_150000_240000') == null_values_filter(df,i,'Power_Parity_Rs_240000_330000') == False:\n",
    "                df.loc[i,'Power_Parity_Rs_150000_330000'] = int(df.loc[i,'Power_Parity_Rs_150000_240000'] + df.loc[i,'Power_Parity_Rs_240000_330000'])\n",
    "            elif null_values_filter(df,i,'Total_Power_Parity') == null_values_filter(df,i,'Power_Parity_Less_than_Rs_45000') == null_values_filter(df,i,'Power_Parity_Rs_45000_90000') == null_values_filter(df,i,'Power_Parity_Rs_90000_150000') == null_values_filter(df,i,'Power_Parity_Rs_330000_425000') == null_values_filter(df,i,'Power_Parity_Rs_425000_545000') == null_values_filter(df,i,'Power_Parity_Above_Rs_545000') == False:\n",
    "                df.loc[i,'Power_Parity_Rs_150000_330000'] = int(df.loc[i,'Total_Power_Parity'] - (df.loc[i,'Power_Parity_Less_than_Rs_45000'] + df.loc[i,'Power_Parity_Rs_45000_90000'] + df.loc[i,'Power_Parity_Rs_90000_150000'] + df.loc[i,'Power_Parity_Rs_330000_425000'] + df.loc[i,'Power_Parity_Rs_425000_545000'] + df.loc[i,'Power_Parity_Above_Rs_545000']))\n",
    "\n",
    "fill_power_parity_rs_150000_330000(df)"
   ]
  },
  {
   "cell_type": "code",
   "execution_count": 73,
   "metadata": {},
   "outputs": [],
   "source": [
    "# filling up the Power_Parity_Rs_330000_425000 column\n",
    "\n",
    "def fill_power_parity_rs_330000_425000(df):\n",
    "    for i in range(len(df)):\n",
    "        if null_values_filter(df,i,'Power_Parity_Rs_330000_425000') == True:\n",
    "            if null_values_filter(df,i,'Power_Parity_Rs_425000_545000') == null_values_filter(df,i,'Power_Parity_Rs_330000_545000') == False:\n",
    "                df.loc[i,'Power_Parity_Rs_330000_425000'] = int(df.loc[i,'Power_Parity_Rs_330000_545000'] - df.loc[i,'Power_Parity_Rs_425000_545000'])\n",
    "            elif null_values_filter(df,i,'Total_Power_Parity') == null_values_filter(df,i,'Power_Parity_Less_than_Rs_45000') == null_values_filter(df,i,'Power_Parity_Rs_45000_90000') == null_values_filter(df,i,'Power_Parity_Rs_90000_150000') == null_values_filter(df,i,'Power_Parity_Rs_150000_240000') == null_values_filter(df,i,'Power_Parity_Rs_240000_330000') == null_values_filter(df,i,'Power_Parity_Rs_425000_545000') == null_values_filter(df,i,'Power_Parity_Above_Rs_545000') == False:\n",
    "                df.loc[i,'Power_Parity_Rs_330000_425000'] = int(df.loc[i,'Total_Power_Parity'] - (df.loc[i,'Power_Parity_Less_than_Rs_45000'] + df.loc[i,'Power_Parity_Rs_45000_90000'] + df.loc[i,'Power_Parity_Rs_90000_150000'] + df.loc[i,'Power_Parity_Rs_150000_240000'] + df.loc[i,'Power_Parity_Rs_240000_330000'] + df.loc[i,'Power_Parity_Rs_425000_545000'] + df.loc[i,'Power_Parity_Above_Rs_545000']))\n",
    "\n",
    "fill_power_parity_rs_330000_425000(df)"
   ]
  },
  {
   "cell_type": "code",
   "execution_count": 74,
   "metadata": {},
   "outputs": [],
   "source": [
    "# filling up the Power_Parity_Rs_425000_545000 column\n",
    "\n",
    "def fill_power_parity_rs_425000_545000(df):\n",
    "    for i in range(len(df)):\n",
    "        if null_values_filter(df,i,'Power_Parity_Rs_425000_545000') == True:\n",
    "            if null_values_filter(df,i,'Power_Parity_Rs_330000_425000') == null_values_filter(df,i,'Power_Parity_Rs_330000_545000') == False:\n",
    "                df.loc[i,'Power_Parity_Rs_425000_545000'] = int(df.loc[i,'Power_Parity_Rs_330000_545000'] - df.loc[i,'Power_Parity_Rs_330000_425000'])\n",
    "            elif null_values_filter(df,i,'Total_Power_Parity') == null_values_filter(df,i,'Power_Parity_Less_than_Rs_45000') == null_values_filter(df,i,'Power_Parity_Rs_45000_90000') == null_values_filter(df,i,'Power_Parity_Rs_90000_150000') == null_values_filter(df,i,'Power_Parity_Rs_150000_240000') == null_values_filter(df,i,'Power_Parity_Rs_240000_330000') == null_values_filter(df,i,'Power_Parity_Rs_330000_425000') == null_values_filter(df,i,'Power_Parity_Above_Rs_545000') == False:\n",
    "                df.loc[i,'Power_Parity_Rs_425000_545000'] = int(df.loc[i,'Total_Power_Parity'] - (df.loc[i,'Power_Parity_Less_than_Rs_45000'] + df.loc[i,'Power_Parity_Rs_45000_90000'] + df.loc[i,'Power_Parity_Rs_90000_150000'] + df.loc[i,'Power_Parity_Rs_150000_240000'] + df.loc[i,'Power_Parity_Rs_240000_330000'] + df.loc[i,'Power_Parity_Rs_330000_425000'] + df.loc[i,'Power_Parity_Above_Rs_545000']))\n",
    "\n",
    "fill_power_parity_rs_425000_545000(df)"
   ]
  },
  {
   "cell_type": "code",
   "execution_count": 75,
   "metadata": {},
   "outputs": [],
   "source": [
    "# filling up the Power_Parity_Rs_330000_545000\n",
    "    \n",
    "def fill_power_parity_rs_330000_545000(df):\n",
    "    for i in range(len(df)):\n",
    "        if null_values_filter(df,i,'Power_Parity_Rs_330000_545000') == True:\n",
    "            if null_values_filter(df,i,'Power_Parity_Rs_425000_545000') == null_values_filter(df,i,'Power_Parity_Rs_330000_425000') == False:\n",
    "                df.loc[i,'Power_Parity_Rs_330000_545000'] = int(df.loc[i,'Power_Parity_Rs_330000_425000'] + df.loc[i,'Power_Parity_Rs_425000_545000'])\n",
    "        elif null_values_filter(df,i,'Total_Power_Parity') == null_values_filter(df,i,'Power_Parity_Less_than_Rs_45000') == null_values_filter(df,i,'Power_Parity_Rs_45000_90000') == null_values_filter(df,i,'Power_Parity_Rs_90000_150000') == null_values_filter(df,i,'Power_Parity_Rs_240000_330000') == null_values_filter(df,i,'Power_Parity_Rs_150000_240000') == null_values_filter(df,i,'Power_Parity_Above_Rs_545000') == False:\n",
    "                df.loc[i,'Power_Parity_Rs_330000_545000'] = int(df.loc[i,'Total_Power_Parity'] - (df.loc[i,'Power_Parity_Less_than_Rs_45000'] + df.loc[i,'Power_Parity_Rs_45000_90000'] + df.loc[i,'Power_Parity_Rs_90000_150000'] + df.loc[i,'Power_Parity_Rs_150000_240000'] + df.loc[i,'Power_Parity_Rs_240000_330000'] + df.loc[i,'Power_Parity_Above_Rs_545000']))\n",
    "\n",
    "fill_power_parity_rs_330000_545000(df)"
   ]
  },
  {
   "cell_type": "code",
   "execution_count": 76,
   "metadata": {},
   "outputs": [],
   "source": [
    "# Filling up the Total_Power_Parity column\n",
    "\n",
    "def fill_total_power_parity(df):\n",
    "    for i in range(len(df)):\n",
    "        if null_values_filter(df,i,'Total_Power_Parity') == True:\n",
    "            if null_values_filter(df,i,'Power_Parity_Less_than_Rs_45000') == null_values_filter(df,i,'Power_Parity_Rs_45000_150000') == null_values_filter(df,i,'Power_Parity_Rs_150000_330000') == null_values_filter(df,i,'Power_Parity_Rs_330000_545000') == null_values_filter(df,i,'Power_Parity_Above_Rs_545000') == False:\n",
    "                df.loc[i,'Total_Power_Parity'] = int(df.loc[i,'Power_Parity_Less_than_Rs_45000'] + df.loc[i,'Power_Parity_Rs_45000_150000'] + df.loc[i,'Power_Parity_Rs_150000_330000'] + df.loc[i, 'Power_Parity_Rs_330000_545000'] + df.loc[i,'Power_Parity_Above_Rs_545000'])\n",
    "            elif null_values_filter(df,i,'Power_Parity_Less_than_Rs_45000') == null_values_filter(df,i,'Power_Parity_Rs_45000_90000') == null_values_filter(df,i,'Power_Parity_Rs_90000_150000') == null_values_filter(df,i,'Power_Parity_Rs_150000_240000') == null_values_filter(df,i,'Power_Parity_Rs_240000_330000') == null_values_filter(df,i,'Power_Parity_Rs_330000_425000') == null_values_filter(df,i,'Power_Parity_Rs_425000_545000') == null_values_filter(df,i,'Power_Parity_Above_Rs_545000') == False:\n",
    "                df.loc[i,'Total_Power_Parity'] = int(df.loc[i,'Power_Parity_Less_than_Rs_45000'] + df.loc[i,'Power_Parity_Rs_45000_90000'] + df.loc[i,'Power_Parity_Rs_90000_150000'] + df.loc[i,'Power_Parity_Rs_150000_240000'] + df.loc[i,'Power_Parity_Rs_240000_330000'] + df.loc[i,'Power_Parity_Rs_330000_425000'] + df.loc[i,'Power_Parity_Rs_425000_545000'] + df.loc[i,'Power_Parity_Above_Rs_545000'])\n",
    "\n",
    "fill_total_power_parity(df)"
   ]
  },
  {
   "cell_type": "code",
   "execution_count": 77,
   "metadata": {},
   "outputs": [],
   "source": [
    "# Filling up the Power_Parity_Less_than_Rs_45000 column\n",
    "\n",
    "def fill_power_parity_less_than_rs_45000(df):\n",
    "    for i in range(len(df)):\n",
    "        if null_values_filter(df,i,'Power_Parity_Less_than_Rs_45000') == True:\n",
    "            if null_values_filter(df,i,'Power_Parity_Above_Rs_545000') == null_values_filter(df,i,'Power_Parity_Rs_45000_150000') == null_values_filter(df,i,'Power_Parity_Rs_150000_330000') == null_values_filter(df,i,'Power_Parity_Rs_330000_545000') == null_values_filter(df,i,'Total_Power_Parity') == False:\n",
    "                df.loc[i,'Power_Parity_Less_than_Rs_45000'] = int(df.loc[i,'Total_Power_Parity'] - (df.loc[i,'Power_Parity_Above_Rs_545000'] + df.loc[i,'Power_Parity_Rs_45000_150000'] + df.loc[i,'Power_Parity_Rs_150000_330000'] + df.loc[i, 'Power_Parity_Rs_330000_545000']))\n",
    "            elif null_values_filter(df,i,'Total_Power_Parity') == null_values_filter(df,i,'Power_Parity_Rs_425000_545000') == null_values_filter(df,i,'Power_Parity_Rs_45000_90000') == null_values_filter(df,i,'Power_Parity_Rs_90000_150000') == null_values_filter(df,i,'Power_Parity_Rs_150000_240000') == null_values_filter(df,i,'Power_Parity_Rs_240000_330000') == null_values_filter(df,i,'Power_Parity_Rs_330000_425000') == null_values_filter(df,i,'Power_Parity_Above_Rs_545000') == False:\n",
    "                df.loc[i,'Power_Parity_Less_than_Rs_45000'] = int(df.loc[i,'Total_Power_Parity'] - (df.loc[i,'Power_Parity_Rs_45000_90000'] + df.loc[i,'Power_Parity_Rs_90000_150000'] + df.loc[i,'Power_Parity_Rs_150000_240000'] + df.loc[i,'Power_Parity_Rs_240000_330000'] + df.loc[i,'Power_Parity_Rs_330000_425000'] + df.loc[i,'Power_Parity_Rs_425000_545000'] + df.loc[i,'Power_Parity_Above_Rs_545000']))\n",
    "\n",
    "fill_power_parity_less_than_rs_45000(df)"
   ]
  },
  {
   "cell_type": "code",
   "execution_count": 78,
   "metadata": {},
   "outputs": [],
   "source": [
    "# Filling up the Power_Parity_Above_Rs_545000 column\n",
    "\n",
    "def fill_power_parity_above_rs_545000(df):\n",
    "    for i in range(len(df)):\n",
    "        if null_values_filter(df,i,'Power_Parity_Above_Rs_545000') == True:\n",
    "            if null_values_filter(df,i,'Power_Parity_Less_than_Rs_45000') == null_values_filter(df,i,'Power_Parity_Rs_45000_150000') == null_values_filter(df,i,'Power_Parity_Rs_150000_330000') == null_values_filter(df,i,'Power_Parity_Rs_330000_545000') == null_values_filter(df,i,'Total_Power_Parity') == False:\n",
    "                df.loc[i,'Power_Parity_Above_Rs_545000'] = int(df.loc[i,'Total_Power_Parity'] - (df.loc[i,'Power_Parity_Less_than_Rs_45000'] + df.loc[i,'Power_Parity_Rs_45000_150000'] + df.loc[i,'Power_Parity_Rs_150000_330000'] + df.loc[i, 'Power_Parity_Rs_330000_545000']))\n",
    "            elif null_values_filter(df,i,'Total_Power_Parity') == null_values_filter(df,i,'Power_Parity_Less_than_Rs_45000') == null_values_filter(df,i,'Power_Parity_Rs_45000_90000') == null_values_filter(df,i,'Power_Parity_Rs_90000_150000') == null_values_filter(df,i,'Power_Parity_Rs_150000_240000') == null_values_filter(df,i,'Power_Parity_Rs_240000_330000') == null_values_filter(df,i,'Power_Parity_Rs_330000_425000') == null_values_filter(df,i,'Power_Parity_Rs_425000_545000') == False:\n",
    "                df.loc[i,'Power_Parity_Above_Rs_545000'] = int(df.loc[i,'Total_Power_Parity'] - (df.loc[i,'Power_Parity_Rs_45000_90000'] + df.loc[i,'Power_Parity_Rs_90000_150000'] + df.loc[i,'Power_Parity_Rs_150000_240000'] + df.loc[i,'Power_Parity_Rs_240000_330000'] + df.loc[i,'Power_Parity_Rs_330000_425000'] + df.loc[i,'Power_Parity_Rs_425000_545000'] + df.loc[i,'Power_Parity_Less_than_Rs_45000']))\n",
    "\n",
    "fill_power_parity_above_rs_545000(df)"
   ]
  },
  {
   "cell_type": "code",
   "execution_count": 79,
   "metadata": {},
   "outputs": [],
   "source": [
    "# Finding the percentage of missing data after cleaning is done\n",
    "\n",
    "missing_data_after_cleaning = missingDataPercent(df)"
   ]
  },
  {
   "cell_type": "code",
   "execution_count": 80,
   "metadata": {},
   "outputs": [],
   "source": [
    "# Creating a CSV file to store the missing data details to visualize it in the streamlit along with other queries\n",
    "\n",
    "missing_data = {\n",
    "    'Columns': df.columns, \n",
    "    'Missing_data_before_cleaning (%)' : missing_data_before_cleaning.values(), \n",
    "    'Missing_data_after_cleaning (%)' : missing_data_after_cleaning.values()\n",
    "    }\n",
    "missing_data_df = pd.DataFrame(missing_data)\n",
    "missing_data_df.to_csv('missing_data.csv', header=True)"
   ]
  },
  {
   "cell_type": "markdown",
   "metadata": {},
   "source": [
    "Task  5: Save Data to MongoDB"
   ]
  },
  {
   "cell_type": "code",
   "execution_count": 83,
   "metadata": {},
   "outputs": [
    {
     "name": "stdout",
     "output_type": "stream",
     "text": [
      "Pinged your deployment. You successfully connected to MongoDB!\n"
     ]
    }
   ],
   "source": [
    "# Connecting with the MongoDB LocalHost\n",
    "\n",
    "uri = \"Give your Mongo DB connection string\"\n",
    "\n",
    "def create_mongo_connection(uri):\n",
    "\n",
    "    # Create a new client and connect to the server\n",
    "    client = MongoClient(uri, server_api=ServerApi('1'))\n",
    "\n",
    "    # Send a ping to confirm a successful connection\n",
    "    try:\n",
    "        client.admin.command('ping')\n",
    "        print(\"Pinged your deployment. You successfully connected to MongoDB!\")\n",
    "    except Exception as e:\n",
    "        print(e)\n",
    "\n",
    "create_mongo_connection(uri)"
   ]
  },
  {
   "cell_type": "code",
   "execution_count": 84,
   "metadata": {},
   "outputs": [],
   "source": [
    "# Creating a DB and Collection\n",
    "\n",
    "def mongo_create_db_collection(uri):\n",
    "    client=MongoClient(f'{uri}').census_db\n",
    "    collection = 'census'\n",
    "\n",
    "    # Checking if the collection already exists\n",
    "    if collection in client.list_collection_names():\n",
    "        client[collection].drop()\n",
    "        client=MongoClient(f'{uri}').census_db.census\n",
    "    else:\n",
    "        client=MongoClient(f\"{uri}\").census_db.census\n",
    "\n",
    "    return client\n",
    "\n",
    "client = mongo_create_db_collection(uri)"
   ]
  },
  {
   "cell_type": "code",
   "execution_count": 85,
   "metadata": {},
   "outputs": [],
   "source": [
    "# inserting data into MongoDB \n",
    "\n",
    "def mongo_insert(client,df):\n",
    "    keys = list(df.columns)\n",
    "    for i in range(len(df)):\n",
    "        values = []\n",
    "        for j in keys:\n",
    "            if j not in ['State/UT','District']:\n",
    "                try:\n",
    "                    values.append(int(df.loc[i,j]))\n",
    "                except:\n",
    "                    values.append(None)\n",
    "            else:\n",
    "                values.append(df.loc[i,j])\n",
    "        doc = dict(zip(keys,values))\n",
    "        client.insert_one(doc)\n",
    "\n",
    "mongo_insert(client,df)"
   ]
  },
  {
   "cell_type": "markdown",
   "metadata": {},
   "source": [
    "Task 6: Database connection and data upload"
   ]
  },
  {
   "cell_type": "code",
   "execution_count": 86,
   "metadata": {},
   "outputs": [
    {
     "name": "stdout",
     "output_type": "stream",
     "text": [
      "<mysql.connector.connection_cext.CMySQLConnection object at 0x0000027E07A8A510>\n"
     ]
    }
   ],
   "source": [
    "# Connecting to MySQL server Localhost\n",
    "\n",
    "mydb = mysql.connector.connect(\n",
    " host=\"localhost\",\n",
    " user=\"root\",\n",
    " password=\"\",)\n",
    "\n",
    "print(mydb)\n",
    "mycursor = mydb.cursor(buffered=True)"
   ]
  },
  {
   "cell_type": "code",
   "execution_count": 87,
   "metadata": {},
   "outputs": [],
   "source": [
    "# Creating Database and table.\n",
    "\n",
    "\"\"\"\n",
    "Manually giving the names for columns which are more than 65 characters in length as MySQL column names have certain constraints\n",
    "over Column name's length and special character usage.\n",
    "\"\"\"\n",
    "\n",
    "def create_db_table(df):\n",
    "    mycursor.execute('CREATE DATABASE IF NOT EXISTS Census_DB')\n",
    "\n",
    "    columns = list()\n",
    "    for i in df.columns:\n",
    "        if i == 'District code':\n",
    "            columns.append('District_Code INT PRIMARY KEY')\n",
    "        elif i == \"State/UT\":\n",
    "            columns.append('State_UT VARCHAR(50)')\n",
    "        elif i == \"District\":\n",
    "            columns.append('District VARCHAR(50)')\n",
    "        elif i == \"Households_with_TV_Computer_Laptop_Telephone_mobile_phone_and_Scooter_Car\":\n",
    "            columns.append(\"Households_TV_Computer_Laptop_Telephone_mobile_phone_Scooter_Car INT\")\n",
    "        elif i == \"Type_of_latrine_facility_Night_soil_disposed_into_open_drain_Households\":\n",
    "            columns.append(\"Type_of_latrine_facility_Night_soil_disposed_into_open_drain INT\")\n",
    "        elif i == \"Type_of_latrine_facility_Flush_pour_flush_latrine_connected_to_other_system_Households\":\n",
    "            columns.append(\"Type_of_latrine_Flush_pour_connected_to_other_system_Households INT\")\n",
    "        elif i == \"Not_having_latrine_facility_within_the_premises_Alternative_source_Open_Households\":\n",
    "            columns.append(\"Not_having_latrine_within_premises_Other_source_Open_Households INT\")\n",
    "        elif i == \"Main_source_of_drinking_water_Handpump_Tubewell_Borewell_Households\":\n",
    "            columns.append(\"Source_of_drinking_water_Handpump_Tubewell_Borewell_Households INT\")\n",
    "        elif i == \"Main_source_of_drinking_water_Other_sources_Spring_River_Canal_Tank_Pond_Lake_Other_sources__Households\":\n",
    "            columns.append(\"Drinking_water_Spring_River_Canal_Tank_Pond_Lake_Other_Household INT\")\n",
    "        else:\n",
    "            columns.append(f'{i} INT')\n",
    "\n",
    "    mycursor.execute(f'CREATE OR REPLACE TABLE Census_DB.census_2011 ({\", \".join(columns)})')\n",
    "    mydb.commit()\n",
    "\n",
    "create_db_table(df)"
   ]
  },
  {
   "cell_type": "code",
   "execution_count": 88,
   "metadata": {},
   "outputs": [],
   "source": [
    "# Getting the column names from the table:\n",
    "\n",
    "def get_columns(table_name):\n",
    "    mycursor.execute(f\"DESCRIBE {table_name}\")\n",
    "    table_columns = []\n",
    "    for i in mycursor:\n",
    "        table_columns.append(i[0])\n",
    "\n",
    "    return tuple(table_columns)\n",
    "\n",
    "table_columns = get_columns('Census_DB.census_2011')"
   ]
  },
  {
   "cell_type": "code",
   "execution_count": 89,
   "metadata": {},
   "outputs": [],
   "source": [
    "# Function to insert data into DB\n",
    "\n",
    "\"\"\"\n",
    "Creating placeholders for the values as we have to insert \"Null\" values inside the table and SQL accepts \n",
    "string formatting in '%s' method. Using executemany to insert bulk data into table.\n",
    "\"\"\"\n",
    "\n",
    "def db_insert_data(mongo_client, df, table_columns):\n",
    "    placeholders = \", \".join([\"%s\"] * len(table_columns))\n",
    "    columns = \", \".join(table_columns)\n",
    "\n",
    "    data = []\n",
    "\n",
    "    for i in range(1,len(df)+1):\n",
    "        for j in mongo_client.find({'District code':i}):\n",
    "            data.append(tuple(j.values())[1:])\n",
    "\n",
    "    try :\n",
    "        query = f'INSERT INTO Census_DB.Census_2011 ({columns}) VALUES ({placeholders})'\n",
    "        mycursor.executemany(query, data)\n",
    "    except Exception as e:\n",
    "        print(e)\n",
    "\n",
    "    mydb.commit()\n",
    "\n",
    "db_insert_data(client, df, table_columns)"
   ]
  },
  {
   "cell_type": "markdown",
   "metadata": {},
   "source": [
    "Please refer the \"Census2011_Queries.py\" for querying and displaying the results in streamlit."
   ]
  }
 ],
 "metadata": {
  "kernelspec": {
   "display_name": "Python 3",
   "language": "python",
   "name": "python3"
  },
  "language_info": {
   "codemirror_mode": {
    "name": "ipython",
    "version": 3
   },
   "file_extension": ".py",
   "mimetype": "text/x-python",
   "name": "python",
   "nbconvert_exporter": "python",
   "pygments_lexer": "ipython3",
   "version": "3.12.4"
  }
 },
 "nbformat": 4,
 "nbformat_minor": 2
}
